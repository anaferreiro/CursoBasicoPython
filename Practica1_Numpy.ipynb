{
 "cells": [
  {
   "cell_type": "markdown",
   "metadata": {},
   "source": [
    "# NUMPY + Scipy + Matplotlib\n",
    "\n",
    "Librerías de cálculo científico\n",
    "\n",
    "Numpy: librería que permite el manejo de arrays multidimensionales de forma muy eficiente\n",
    "https://numpy.org/\n",
    "\n",
    "Scipy: librería que dispone de algoritmos de optimización, integración, interpolación, cálculo de autovalores y autovectores, resolución de ecuaciones diferenciales, cálculos estadísticos, etc. \n",
    "Está integrado con Numpy. \n",
    "https://scipy.org/\n",
    "\n",
    "Matplot: librería de representación gráfica. Está integrada con Numpy\n",
    "https://matplotlib.org/\n"
   ]
  },
  {
   "cell_type": "markdown",
   "metadata": {},
   "source": [
    "# Numpy\n"
   ]
  },
  {
   "cell_type": "code",
   "execution_count": 1,
   "metadata": {},
   "outputs": [
    {
     "name": "stdout",
     "output_type": "stream",
     "text": [
      "v= \n",
      " [1 2 3] \n",
      " w=\n",
      "  [ 1.1  -2.    0.04]  \n",
      " u=\n",
      "  [0. 1. 2.]\n"
     ]
    }
   ],
   "source": [
    "import numpy as np  #importamos numpy con el alias   np \n",
    "\n",
    "#Creación de un array unidimensional\n",
    "v=np.array([1,2,3]) #array 1d de enteros\n",
    "w=np.array([1.1, -2, 4e-2]) #array 1d de dígitos en doble precisión\n",
    "u=np.array([0,1,2], dtype='float')\n",
    "print(\"v= \\n\", v, \"\\n w=\\n \", w, \" \\n u=\\n \", u)"
   ]
  },
  {
   "cell_type": "code",
   "execution_count": 2,
   "metadata": {},
   "outputs": [
    {
     "name": "stdout",
     "output_type": "stream",
     "text": [
      "A=\n",
      " [[1 2]\n",
      " [3 4]]\n",
      "B=\n",
      " [[5. 6.]\n",
      " [7. 9.]]\n",
      "C=\n",
      " [[1. 2. 3.]\n",
      " [4. 5. 6.]\n",
      " [7. 8. 9.]]\n",
      "Z= \n",
      " [0. 0. 0.]\n",
      "Z= \n",
      " [[0. 0.]\n",
      " [0. 0.]]\n",
      "O= \n",
      " [1. 1. 1.]\n",
      "O= \n",
      " [[1. 1.]\n",
      " [1. 1.]]\n",
      "I=\n",
      " [[1. 0. 0.]\n",
      " [0. 1. 0.]\n",
      " [0. 0. 1.]]\n"
     ]
    }
   ],
   "source": [
    "#creación de arrays multidimensionales. Trabajaremos sólo con matrices\n",
    "\n",
    "A=np.array([ [1,2], [3,4] ]) #matriz de enteros\n",
    "B=np.array([[5,6],[7,9]],dtype='float')\n",
    "C=np.array([[1,2,3.],[4,5,6],[7,8,9]])\n",
    "\n",
    "print(\"A=\\n\",A)\n",
    "print(\"B=\\n\", B)\n",
    "print(\"C=\\n\", C)\n",
    "\n",
    "#Podemos crear arrays especiales\n",
    "Z=np.zeros(3)\n",
    "print(\"Z= \\n\", Z)\n",
    "Z=np.zeros((2,2))\n",
    "print(\"Z= \\n\", Z)\n",
    "O=np.ones(3)\n",
    "print(\"O= \\n\", O)\n",
    "O=np.ones((2,2))\n",
    "print(\"O= \\n\", O)\n",
    "\n",
    "I=np.eye(3)\n",
    "print(\"I=\\n\",I)"
   ]
  },
  {
   "cell_type": "code",
   "execution_count": 3,
   "metadata": {},
   "outputs": [
    {
     "name": "stdout",
     "output_type": "stream",
     "text": [
      "D= \n",
      " [[ 6.  8.]\n",
      " [10. 13.]]\n",
      "D= \n",
      " [[-4. -4.]\n",
      " [-4. -5.]]\n",
      "D= \n",
      " [[ 5. 12.]\n",
      " [21. 36.]]\n",
      "D= \n",
      " [[0.2        0.33333333]\n",
      " [0.42857143 0.44444444]]\n",
      "D= \n",
      " [[ 1  4]\n",
      " [ 9 16]]\n"
     ]
    }
   ],
   "source": [
    "#Se puede operar con arrays (de la misma dimension)\n",
    "D = A + B  #suma elemento a elemento\n",
    "print(\"D= \\n\", D)\n",
    "D = A - B  #resta elemento a elemento\n",
    "print(\"D= \\n\", D)\n",
    "D = A * B  #multiplica elemento a elemento\n",
    "print(\"D= \\n\", D)\n",
    "D = A / B  #divide elemento a elemento\n",
    "print(\"D= \\n\", D)\n",
    "\n",
    "D=A**2 #potencia de cada elemento\n",
    "print(\"D= \\n\", D)"
   ]
  },
  {
   "cell_type": "code",
   "execution_count": 4,
   "metadata": {},
   "outputs": [
    {
     "name": "stdout",
     "output_type": "stream",
     "text": [
      "Producto escalar =  -2.78\n"
     ]
    }
   ],
   "source": [
    "#Producto escalar de dos vectores\n",
    "v=np.array([1,2,3]) \n",
    "w=np.array([1.1, -2, 4.e-2])\n",
    "a=np.dot(v,w)\n",
    "print(\"Producto escalar = \", a)"
   ]
  },
  {
   "cell_type": "code",
   "execution_count": 5,
   "metadata": {},
   "outputs": [
    {
     "name": "stdout",
     "output_type": "stream",
     "text": [
      " A@v= \n",
      " [15.5 35.  54.5]\n"
     ]
    }
   ],
   "source": [
    "#Multiplicar matriz por vector\n",
    "A=np.array([[1,2,3.],[4,5,6],[7,8,9]])\n",
    "v=np.array([1,2,3.5])\n",
    "print( \" A@v= \\n\", A@v)"
   ]
  },
  {
   "cell_type": "code",
   "execution_count": 6,
   "metadata": {},
   "outputs": [
    {
     "name": "stdout",
     "output_type": "stream",
     "text": [
      "[[11.  -1.5 10.5]\n",
      " [23.7 -4.  34.2]\n",
      " [35.  -7.  51. ]]\n"
     ]
    }
   ],
   "source": [
    "#Multiplicar dos matrices\n",
    "A=np.array([[1.5,2,3.],[4,5.7,6],[7,8,9]])\n",
    "B=np.array([[0,-1,3.],[1,0,6],[3,0,-2]])\n",
    "print(A@B)"
   ]
  },
  {
   "cell_type": "code",
   "execution_count": null,
   "metadata": {},
   "outputs": [],
   "source": []
  },
  {
   "cell_type": "code",
   "execution_count": 7,
   "metadata": {},
   "outputs": [
    {
     "name": "stdout",
     "output_type": "stream",
     "text": [
      "1.0 2.1 3.0\n",
      "(3,)\n",
      "3\n",
      "1.0 \t\n",
      "2.1 \t\n",
      "3.0 \t\n",
      "3.0\n",
      "2.1\n"
     ]
    }
   ],
   "source": [
    "#acceder elementos de un array 1d\n",
    "# v[i]  accede al elemento i-ésimo del vector v. Los índices empiezan a contar desde 0\n",
    "v=np.array([1,2.1,3])\n",
    "print(v[0], v[1], v[2])\n",
    "print(np.shape(v))\n",
    "print(np.size(v))\n",
    "\n",
    "#recorro todos los elementos del array en un bucle\n",
    "for i in range(0, np.size(v)):\n",
    "    print(v[i],\"\\t\")\n",
    "    \n",
    "    \n",
    "#acceso desde la última posición\n",
    "print(v[-1]) #último elemento\n",
    "print(v[-2])\n"
   ]
  },
  {
   "cell_type": "code",
   "execution_count": 8,
   "metadata": {},
   "outputs": [
    {
     "name": "stdout",
     "output_type": "stream",
     "text": [
      "A= [[1. 2. 3. 0.]\n",
      " [4. 5. 6. 1.]\n",
      " [7. 8. 9. 5.]]\n",
      "m, n =  3 ,  4\n",
      "A[0,:]= [1. 2. 3. 0.]\n",
      "A[1,:]= [4. 5. 6. 1.]\n",
      "A[2,:]= [7. 8. 9. 5.]\n",
      "filas\n",
      "[1. 2. 3. 0.]\n",
      "[4. 5. 6. 1.]\n",
      "[7. 8. 9. 5.]\n",
      "columnas\n",
      "[1. 4. 7.]\n",
      "[2. 5. 8.]\n",
      "[3. 6. 9.]\n",
      "[0. 1. 5.]\n",
      "ultima fila=  [7. 8. 9. 5.]\n",
      "ultima columna=  [0. 1. 5.]\n"
     ]
    }
   ],
   "source": [
    "#acceder a elementos de un array 2d, m x n \n",
    "# A[i,j] accede al elemento de la i-ésima fija y j-ésima columna. Los índices empiezan a contar desde 0\n",
    "A=np.array([[1,2,3.,0],[4,5,6,1],[7,8,9,5]])\n",
    "print(\"A=\", A)\n",
    "m,n=np.shape(A)\n",
    "print( \"m, n = \", m,\", \",n)\n",
    "\n",
    "# extraigo todos los elementos de la i-ésima fila, A[i,:]\n",
    "print(\"A[0,:]=\", A[0,:])\n",
    "print(\"A[1,:]=\", A[1,:])\n",
    "print(\"A[2,:]=\", A[2,:])\n",
    "#print(\"A[3,:]=\", A[3,:]) #me paso de las dimensiones, porque empiezo en 0\n",
    "\n",
    "#extraigo en un bucle las distintas filas\n",
    "print(\"filas\")\n",
    "for i in range(0,m):\n",
    "    print(A[i,:])\n",
    "    \n",
    "    \n",
    "# extraigo todos los elemenots de la j-ésima columna, A[:,j]\n",
    "print(\"columnas\")\n",
    "for j in range(0,n):\n",
    "    print(A[:,j])\n",
    "\n",
    "\n",
    "#accedo a la última fila\n",
    "print(\"ultima fila= \", A[-1,:])\n",
    "#accedo a la última columna\n",
    "print(\"ultima columna= \",A[:,-1])"
   ]
  },
  {
   "cell_type": "code",
   "execution_count": 9,
   "metadata": {},
   "outputs": [
    {
     "name": "stdout",
     "output_type": "stream",
     "text": [
      "[[4. 5. 6. 1.]\n",
      " [7. 8. 9. 5.]]\n",
      "[[6. 1.]\n",
      " [9. 5.]]\n"
     ]
    }
   ],
   "source": [
    "#extraer submatrices\n",
    "A=np.array([[1,2,3.,0],[4,5,6,1],[7,8,9,5]])\n",
    "m,n=np.shape(A)\n",
    "#extraigo toda las filas 1 y 2\n",
    "print(A[1:3,:])\n",
    "#extraigo fijas 1 y 2 y columnas 2 y 3\n",
    "print(A[1:3,2:4])"
   ]
  },
  {
   "cell_type": "code",
   "execution_count": 10,
   "metadata": {
    "tags": []
   },
   "outputs": [
    {
     "name": "stdout",
     "output_type": "stream",
     "text": [
      "D= \n",
      " [[ 1.12300e+01 -1.87500e+00  1.18800e+01]\n",
      " [ 5.00018e+05 -5.00000e+00  3.00000e+06]\n",
      " [ 3.50000e+01 -8.75000e+00  5.10000e+01]]\n",
      "C\n",
      " [[     11      -1      11]\n",
      " [ 500018      -5 3000000]\n",
      " [     35      -8      51]]\n"
     ]
    }
   ],
   "source": [
    "#ojo con los typecasting\n",
    "\n",
    "A=np.array([[1.5,2.23,3.],[4,5.e5,6],[7,8,9]])\n",
    "B=np.array([[0,-1.25,3.],[1,0,6],[3,0,-2]])\n",
    "m,n=np.shape(A)\n",
    "C=np.zeros((m,n), dtype='int')\n",
    "D=A@B\n",
    "print(\"D= \\n\", D)\n",
    "C[0,1]=D[0,1]\n",
    "m,n=D.shape\n",
    "for i in range(0,m):\n",
    "    for j in range(0,n):\n",
    "        C[i,j]=D[i,j]\n",
    "print(\"C\\n\", C)"
   ]
  },
  {
   "cell_type": "code",
   "execution_count": 11,
   "metadata": {},
   "outputs": [
    {
     "name": "stdout",
     "output_type": "stream",
     "text": [
      "w, v =  [1 2 3] [1 2 3]\n",
      "w, v =  [-100    2    3] [-100    2    3]\n",
      "w is v  True\n",
      "u, v =  [-100    2    3] [-100    2    3]\n",
      "u, v =  [-100    2 -500] [-100    2    3]\n",
      "u is v   False\n"
     ]
    }
   ],
   "source": [
    "#copiar el contenido de un array en otro array\n",
    "v=np.array([1,2,3]) \n",
    "w=v  #Ojo!! ahora w y v apuntan a la misma dirección de memoria. Si hago un cambio en uno se hace en el otro \n",
    "print(\"w, v = \", w, v)\n",
    "w[0]=-100.5\n",
    "print(\"w, v = \", w, v)\n",
    "print(\"w is v \",w is v)\n",
    "#copiamos contenido\n",
    "u=np.copy(v)  #ahora son dos arrays distintos. No apuntan a la misma dirección de memoria. Si cambio uno no cambia el otro\n",
    "print(\"u, v = \", u, v)\n",
    "u[-1]=-500.5  #como es un array de enteros, está redondeando. cuidado con problemas de este tipo\n",
    "print(\"u, v = \", u, v)\n",
    "print(\"u is v  \", u is v)"
   ]
  },
  {
   "cell_type": "code",
   "execution_count": 12,
   "metadata": {},
   "outputs": [
    {
     "name": "stdout",
     "output_type": "stream",
     "text": [
      "C=  [[1. 2. 3. 0. 0.]\n",
      " [4. 5. 6. 1. 0.]\n",
      " [7. 8. 9. 5. 0.]]\n",
      "C= [[ 1.   2.   3.   0.   0.9]\n",
      " [ 4.   5.   6.   1.  -1.7]\n",
      " [ 7.   8.   9.   5.  -2.6]]\n"
     ]
    }
   ],
   "source": [
    "#Ampliar una matriz con un array 1d\n",
    "A=np.array([[1,2,3.,0],[4,5,6,1],[7,8,9,5]])\n",
    "v=np.array([0.9,-1.7,-2.6])\n",
    "m,n=np.shape(A)\n",
    "C=np.zeros((m,n+1))\n",
    "C[:,0:n]=np.copy(A)\n",
    "print(\"C= \", C)\n",
    "C[:,-1]=np.copy(v)\n",
    "print(\"C=\", C)"
   ]
  },
  {
   "cell_type": "code",
   "execution_count": 13,
   "metadata": {},
   "outputs": [
    {
     "name": "stdout",
     "output_type": "stream",
     "text": [
      "B=  [[ 1.4  0.   7.   0. ]\n",
      " [ 2.5  0.   8.  -1. ]\n",
      " [ 3.   6.   0.  -3. ]\n",
      " [ 0.   1.5  5.   0. ]]\n",
      "(3, 4) (4, 4)\n",
      "A@B=  [[ 15.4  18.   23.  -11. ]\n",
      " [ 36.1  37.5  73.  -23. ]\n",
      " [ 56.8  61.5 138.  -35. ]]\n",
      "shape ->  (3, 4)\n",
      "D=  [[ 15.4  18.   23.  -11. ]\n",
      " [ 36.1  37.5  73.  -23. ]\n",
      " [ 56.8  61.5 138.  -35. ]]\n",
      "C y D son iguales=  True\n",
      "C y D estan proximos,  True\n"
     ]
    }
   ],
   "source": [
    "#producto de matrices\n",
    "A=np.array([[1,2,3.,0],[4,5,6,1],[7,8,9,5]])\n",
    "B=np.array([[1.4,2.5,3.,0],[0,0,6,1.5],[7,8,0,5],[0,-1,-3,0]])\n",
    "B=B.T #Traspuesta de B\n",
    "print(\"B= \", B)\n",
    "m1,n1=np.shape(A)\n",
    "m2,n2=np.shape(B)\n",
    "print(A.shape, B.shape)\n",
    "C=np.zeros(A.shape)\n",
    "C=A@B\n",
    "print(\"A@B= \", A@B)\n",
    "print(\"shape -> \", np.shape(C))\n",
    "D=np.zeros((m1,n2))\n",
    "\n",
    "for i in range(0,m1):\n",
    "    for j in range(0,n2):\n",
    "        D[i,j]=np.dot(A[i,:], B[:,j])\n",
    "\n",
    "print(\"D= \", D)\n",
    "\n",
    "#True if two arrays have the same shape and elements, False otherwise.\n",
    "print(\"C y D son iguales= \", np.array_equal(C,D))  \n",
    "\n",
    "#Returns True if two arrays are element-wise equal within a tolerance.\n",
    "print(\"C y D estan proximos, \", np.allclose(C,D, atol=1.e-20)) "
   ]
  },
  {
   "cell_type": "code",
   "execution_count": null,
   "metadata": {},
   "outputs": [],
   "source": []
  }
 ],
 "metadata": {
  "kernelspec": {
   "display_name": "Python 3 (ipykernel)",
   "language": "python",
   "name": "python3"
  },
  "language_info": {
   "codemirror_mode": {
    "name": "ipython",
    "version": 3
   },
   "file_extension": ".py",
   "mimetype": "text/x-python",
   "name": "python",
   "nbconvert_exporter": "python",
   "pygments_lexer": "ipython3",
   "version": "3.10.12"
  }
 },
 "nbformat": 4,
 "nbformat_minor": 4
}
