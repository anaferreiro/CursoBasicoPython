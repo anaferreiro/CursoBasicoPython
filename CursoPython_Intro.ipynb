{
 "cells": [
  {
   "cell_type": "markdown",
   "metadata": {
    "id": "T4i62TAPkQOi"
   },
   "source": [
    "# Curso Python\n",
    "\n",
    "Python es un lenguaje de programación de alto nivel e interpretado. \n",
    "\n",
    "Características:\n",
    "\n",
    "1) Lenguaje de programción multiparadigma: programación estructurada, programación orientada a objetos y algo de programación funcional. \n",
    "\n",
    "2) Lenguaje interpretado, i.e., se va realizando la traducción  del código a medida que se ejecuta. \n",
    "\n",
    "3) Lenguaje dinámicamente tipado: una variable puede tomar distintos valores a lo largo del código.\n",
    "\n",
    "4) Lenguaje multiplataforma.\n",
    "\n"
   ]
  },
  {
   "cell_type": "markdown",
   "metadata": {
    "id": "Xnzdrr0EF6EQ"
   },
   "source": [
    "## Tipos de variables:\n",
    "\n",
    "Python tiene cinco tipos de datos estándar: Números, cadenas de texto, listas, tuplas y diccionarios."
   ]
  },
  {
   "cell_type": "markdown",
   "metadata": {
    "id": "6nVSxUwkGe1c"
   },
   "source": [
    "### Números \n",
    "\n",
    "Python soporta cuadtro tipos numéricos diferentes:\n",
    "\n",
    "${\\bf int}$: enteros con signo\n",
    "\n",
    "${\\bf long }$: enteros largos\n",
    "\n",
    "${\\bf float }$: valores reales en punto floatante\n",
    "\n",
    "${\\bf complex }$: números complejos\n",
    "\n"
   ]
  },
  {
   "cell_type": "markdown",
   "metadata": {
    "id": "PLBa4JbFkK3t"
   },
   "source": [
    "1) Fórmula que calcula la distancia recorrida $s$ de un objeto que se mueve en el intervalo $[0,t]$, cuya velocidad inicial es $v_0$ y su aceleración es $a$.\n",
    "\n",
    "$$\n",
    "s=v_0t + \\frac{1}{2}a t^2\n",
    "$$"
   ]
  },
  {
   "cell_type": "code",
   "execution_count": null,
   "metadata": {
    "colab": {
     "base_uri": "https://localhost:8080/"
    },
    "id": "fbNGjybskGRT",
    "outputId": "d4b69e7f-408c-4f3c-df94-1672602b28e1"
   },
   "outputs": [
    {
     "name": "stdout",
     "output_type": "stream",
     "text": [
      "1.025\n",
      " Espacio recorrido  1.025\n",
      "S= 1.025\n",
      "s\t = 1.025 \t en el tiempo= 0.500000 \n",
      "s=1.02 en t=0.50\n",
      "type(t)=  <class 'float'>\n",
      "type(v0)=  <class 'int'>\n"
     ]
    }
   ],
   "source": [
    "t=0.5 \n",
    "v0=2\n",
    "a=0.2\n",
    "s=v0*t + 0.5 * a* t**2\n",
    "print(s)\n",
    "print(\" Espacio recorrido \", s)\n",
    "print(\"S= %g\"%s)\n",
    "print(\"s\\t = %.3f \\t en el tiempo= %f \"%(s,t))\n",
    "print(\"s={:.3g} en t={:.2f}\".format(s,t))\n",
    "#Modo de conocer el tipo de una variable\n",
    "\n",
    "print(\"type(t)= \", type(t))\n",
    "print(\"type(v0)= \", type(v0))\n",
    "\n"
   ]
  },
  {
   "cell_type": "markdown",
   "metadata": {
    "id": "vbKnaqPEfdox"
   },
   "source": [
    "El paquete $math$ dispone de funciones matemáticas básicas: $math.log()$, $math.sin()$, $math.exp()$"
   ]
  },
  {
   "cell_type": "code",
   "execution_count": null,
   "metadata": {
    "colab": {
     "base_uri": "https://localhost:8080/"
    },
    "id": "rI2Wkq0xfwQI",
    "outputId": "28a39207-a8d1-4d38-92f1-19920b2de31d"
   },
   "outputs": [
    {
     "name": "stdout",
     "output_type": "stream",
     "text": [
      "7.38905609893065\n",
      "0.6931471805599453\n",
      "2.718281828459045\n",
      "1.2246467991473532e-16\n"
     ]
    }
   ],
   "source": [
    "import math \n",
    "\n",
    "x=2\n",
    "t=math.exp(x)\n",
    "print(t)\n",
    "t=math.log(x)\n",
    "print(t)\n",
    "t=math.e #numero e\n",
    "print(t)\n",
    "t=math.sin(math.pi)\n",
    "print(t)"
   ]
  },
  {
   "cell_type": "markdown",
   "metadata": {
    "id": "E_QfhD1qeT1A"
   },
   "source": [
    "2) La velocidad $v$ de un cohete en vuelo vertical cerca de la superficie de la tierra puede aproximarse por:\n",
    "\n",
    "$$\n",
    "v=u\\log\\left(\\frac{M_0}{M_0- m_1 t}\\right)-gt\n",
    "$$\n",
    "\n",
    "donde $u=2510\\, m/s$ (velocidad relativa), $M_0=2.8\\times 10^6$ (masa del cohete en el despegue), $m_1=13.3\\times 10^3 kg/s$ (tasa de consumo de combustible), $g=9.81 m/s^2$ (gravedad) y $t$ tiempo medido desde el despegue.\n",
    "\n",
    "\n",
    "**Nota:** Para calcular el logaritmos usamos el método $math.log$"
   ]
  },
  {
   "cell_type": "code",
   "execution_count": null,
   "metadata": {
    "colab": {
     "base_uri": "https://localhost:8080/"
    },
    "id": "-e2u1ryugBqH",
    "outputId": "67a5743e-177a-4e16-bc71-e756b1852f02"
   },
   "outputs": [
    {
     "name": "stdout",
     "output_type": "stream",
     "text": [
      "velocidad=  4.338986237263828\n"
     ]
    }
   ],
   "source": [
    "import math\n",
    "t=2\n",
    "u=2510\n",
    "M0=2.8e6\n",
    "m1=13.3e3\n",
    "g=9.81\n",
    "v=u*math.log(M0/(M0-m1*t))-g*t \n",
    "print(\"velocidad= \", v)"
   ]
  },
  {
   "cell_type": "markdown",
   "metadata": {
    "id": "ndeG5VhYk-nO"
   },
   "source": [
    "##### Ejercicio:\n",
    "\n",
    "Considérese el número\n",
    "\n",
    "$$\n",
    "a_n= \\frac{2^n}{\\sqrt{n}}\n",
    "$$\n",
    "\n",
    "Calcular $a_4$ y $a_{100}$"
   ]
  },
  {
   "cell_type": "code",
   "execution_count": null,
   "metadata": {
    "colab": {
     "base_uri": "https://localhost:8080/"
    },
    "id": "IHGNQHTqlla-",
    "outputId": "88cc77d0-fb64-4eb2-daab-5c8fc9ac8744"
   },
   "outputs": [
    {
     "name": "stdout",
     "output_type": "stream",
     "text": [
      "an=  8.0  para n=  4\n",
      "an=  1.2676506002282295e+29  para n=  100\n"
     ]
    }
   ],
   "source": [
    "n=4\n",
    "a=2**n/n**0.5\n",
    "print(\"an= \", a, \" para n= \", n)\n",
    "\n",
    "n=100\n",
    "a=2**n/n**0.5\n",
    "print(\"an= \", a, \" para n= \", n)\n"
   ]
  },
  {
   "cell_type": "markdown",
   "metadata": {
    "id": "ZEq6pkFYF0fR"
   },
   "source": [
    "Manejar complejos"
   ]
  },
  {
   "cell_type": "code",
   "execution_count": null,
   "metadata": {
    "colab": {
     "base_uri": "https://localhost:8080/"
    },
    "id": "IPPM8XCdERJz",
    "outputId": "95bfa3ff-bc8f-4cab-9336-3eb54f67f721"
   },
   "outputs": [
    {
     "name": "stdout",
     "output_type": "stream",
     "text": [
      "a=  (5+5j)  b=  (6-3j)\n",
      "<class 'complex'>\n",
      "c=  (11+2j)  d=  (45+15j)  f=  (0.3333333333333333+1j)\n",
      "parte real de a=  5.0\n",
      "parte imaginaria de a=  5.0\n"
     ]
    }
   ],
   "source": [
    "a= 5  + 5j \n",
    "b=6 - 3j\n",
    "\n",
    "print(\"a= \", a, \" b= \", b)\n",
    "print(type(a))\n",
    "c=a+b\n",
    "d=a*b\n",
    "f=a/b\n",
    "print(\"c= \", c, \" d= \", d, \" f= \", f)\n",
    "\n",
    "#extraemos parte real\n",
    "print(\"parte real de a= \", a.real)\n",
    "#extraemos parte imaginaria \n",
    "print(\"parte imaginaria de a= \", a.imag)\n"
   ]
  },
  {
   "cell_type": "markdown",
   "metadata": {
    "id": "za2kn7EiFmw3"
   },
   "source": [
    "### Cadenas de texto"
   ]
  },
  {
   "cell_type": "code",
   "execution_count": null,
   "metadata": {
    "colab": {
     "base_uri": "https://localhost:8080/"
    },
    "id": "qobAIQ2BFmHv",
    "outputId": "309e8697-e35a-41dd-9b7f-bd2e9549b730"
   },
   "outputs": [
    {
     "name": "stdout",
     "output_type": "stream",
     "text": [
      "Soy una cadena de texto\n",
      "<class 'str'>\n"
     ]
    }
   ],
   "source": [
    "s=\"Soy una cadena de texto\"\n",
    "print(s)\n",
    "print(type(s))"
   ]
  },
  {
   "cell_type": "markdown",
   "metadata": {
    "id": "rwOvq2W7HlbX"
   },
   "source": [
    "Podemos declarar una cadena de texto que contenga números en su interior\n"
   ]
  },
  {
   "cell_type": "code",
   "execution_count": null,
   "metadata": {
    "colab": {
     "base_uri": "https://localhost:8080/"
    },
    "id": "n0nblwfnHsWk",
    "outputId": "fd45acf3-96d1-4bef-a2ee-88d39a9b8c31"
   },
   "outputs": [
    {
     "name": "stdout",
     "output_type": "stream",
     "text": [
      "El numero es 5\n",
      "El numero b es 2\n",
      "La suma de 550.000000 + -0.340000 es = 549.660000\n",
      "La suma de 550.0 + -0.3 es = 549.7\n",
      "La suma de 5.50e+02 + -3.4e-01 es = 5.50e+02\n"
     ]
    }
   ],
   "source": [
    "a=5\n",
    "s=\"El numero es \"+str(a)\n",
    "print(s)\n",
    "\n",
    "b=2\n",
    "s=\"El numero b es %i\"%b \n",
    "print(s)\n",
    "x=5.5e2; y=-3.4e-1;z= x+y\n",
    "s=\"La suma de %f + %f es = %f\"%(x,y,z)\n",
    "print(s)\n",
    "s=\"La suma de {:.1f} + {:.1f} es = {:.1f}\".format(x,y,z)\n",
    "print(s)\n",
    "s=\"La suma de {:.2e} + {:.1e} es = {:.2e}\".format(x,y,z)\n",
    "print(s)"
   ]
  },
  {
   "cell_type": "markdown",
   "metadata": {
    "id": "AY9fGMQlKQ6J"
   },
   "source": [
    "#### Métodos que actúan sobre cadenas de texto"
   ]
  },
  {
   "cell_type": "code",
   "execution_count": null,
   "metadata": {
    "colab": {
     "base_uri": "https://localhost:8080/"
    },
    "id": "RBQ3eCQ8KaYV",
    "outputId": "e7672bc1-2394-4ce5-9411-29c16041bb30"
   },
   "outputs": [
    {
     "name": "stdout",
     "output_type": "stream",
     "text": [
      "Metodos de una cadena de texto \n",
      "  ['__add__', '__class__', '__contains__', '__delattr__', '__dir__', '__doc__', '__eq__', '__format__', '__ge__', '__getattribute__', '__getitem__', '__getnewargs__', '__gt__', '__hash__', '__init__', '__init_subclass__', '__iter__', '__le__', '__len__', '__lt__', '__mod__', '__mul__', '__ne__', '__new__', '__reduce__', '__reduce_ex__', '__repr__', '__rmod__', '__rmul__', '__setattr__', '__sizeof__', '__str__', '__subclasshook__', 'capitalize', 'casefold', 'center', 'count', 'encode', 'endswith', 'expandtabs', 'find', 'format', 'format_map', 'index', 'isalnum', 'isalpha', 'isascii', 'isdecimal', 'isdigit', 'isidentifier', 'islower', 'isnumeric', 'isprintable', 'isspace', 'istitle', 'isupper', 'join', 'ljust', 'lower', 'lstrip', 'maketrans', 'partition', 'replace', 'rfind', 'rindex', 'rjust', 'rpartition', 'rsplit', 'rstrip', 'split', 'splitlines', 'startswith', 'strip', 'swapcase', 'title', 'translate', 'upper', 'zfill']\n",
      "Hola\n",
      "hola\n",
      "BUEN VIAJE\n",
      "Subdivide una cadena en subcadenas=  ['buen', 'viaje']\n"
     ]
    }
   ],
   "source": [
    "s=\"hola\"\n",
    "print(\"Metodos de una cadena de texto \\n \", dir(s))\n",
    "print(s.capitalize()) #la primera letra en mayuscula\n",
    "\n",
    "s=\"HOLA\"\n",
    "print(s.lower()) #escribe toda la cadena de texto en minúsculas\n",
    "\n",
    "s=\"buen viaje\"\n",
    "print(s.upper()) #escribe toda la cadena de texto en mayúsculas\n",
    "\n",
    "print(\"Subdivide una cadena en subcadenas= \", s.split()   )"
   ]
  },
  {
   "cell_type": "markdown",
   "metadata": {
    "id": "Gf2MdS0sL_Bt"
   },
   "source": [
    "### Listas\n",
    "\n",
    "\n",
    "Tipo de datos que permite almacenar un conjunto arbitrario de datos, que no tienen que ser del mismo tipo. \n",
    "\n",
    "1) Son ordenadas, mantienen el orden en el que se definen\n",
    "\n",
    "2) Los datos no tienen que ser del mismo tipo.\n",
    "\n",
    "3) Son mutables, puesto que sus elementos pueden modificarse. \n",
    "\n",
    "4) Son dinámicas, ya que su tamaño puede ser modificado."
   ]
  },
  {
   "cell_type": "code",
   "execution_count": null,
   "metadata": {
    "colab": {
     "base_uri": "https://localhost:8080/"
    },
    "id": "1d_kKgRZMGxC",
    "outputId": "692f53da-04e8-4166-ed10-ee1a6c3c3f68"
   },
   "outputs": [
    {
     "name": "stdout",
     "output_type": "stream",
     "text": [
      "lista=  [1, 'texto', 4.5, (4+5j)]\n",
      "<class 'list'>\n",
      "[2, [2, 3], 'texto', [-1, 20.0]]\n",
      "len(l)=  4\n"
     ]
    }
   ],
   "source": [
    "l=[1, \"texto\", 4.5, 4+5j]\n",
    "print(\"lista= \", l)\n",
    "print(type(l))\n",
    "\n",
    "l=[2, [2,3], \"texto\", [-1,.2e2]]\n",
    "print(l)\n",
    "\n",
    "#tamaño de la lista\n",
    "print(\"len(l)= \", len(l))\n",
    "\n"
   ]
  },
  {
   "cell_type": "markdown",
   "metadata": {
    "id": "KMZ4Hv2jXLok"
   },
   "source": [
    "#### Acceder a los elemenos de una lista\n",
    "\n",
    "Para acceder a elementos i-ésimo de la lista, escrbimos $l[i]$, $i=0, \\ldots, len(l)-1$. Nótese que el acceso a los índices empieza en $0$.\n",
    "\n",
    "También podemos usar índices negativos: $l[-1]$ accede al último elemento de la lista"
   ]
  },
  {
   "cell_type": "code",
   "execution_count": null,
   "metadata": {
    "colab": {
     "base_uri": "https://localhost:8080/"
    },
    "id": "k7QqxGjBX3PP",
    "outputId": "6c698bf2-4247-43ca-f3c7-d8ac3df2a4f0"
   },
   "outputs": [
    {
     "name": "stdout",
     "output_type": "stream",
     "text": [
      "-4\n",
      "[40, -2, 0, 10]\n",
      "[40, -2, 300, 10]\n"
     ]
    }
   ],
   "source": [
    "l=[-4, -2, 0, 10]\n",
    "print(l[0])\n",
    "l[0]= 40 #modificamos el elemento que está en la posición 0\n",
    "print(l)\n",
    "l[2]=300  #modificamos el elementos que está en la posición 2\n",
    "print(l)\n",
    "l[-1]=1.e-10 #modificamos el último elemento"
   ]
  },
  {
   "cell_type": "markdown",
   "metadata": {
    "id": "yopTN68CYtQS"
   },
   "source": [
    "#### Métodos que actúan sobre listas"
   ]
  },
  {
   "cell_type": "code",
   "execution_count": null,
   "metadata": {
    "colab": {
     "base_uri": "https://localhost:8080/"
    },
    "id": "iXmLuzu_X3no",
    "outputId": "4a9fe65e-fb1f-45d5-ad76-7e0d700d144c"
   },
   "outputs": [
    {
     "name": "stdout",
     "output_type": "stream",
     "text": [
      "[1, -0.5]\n",
      "[1, -0.5, -1e-10]\n",
      "[1, -0.5, -1e-10, -1.45, -99]\n",
      "[1, -0.5, -1e-10, -99]\n",
      "[1, -0.5, -1e-10]\n",
      "[1, -1e-10]\n"
     ]
    }
   ],
   "source": [
    "#añadimos un elemento al final de la lista. Modificamos la lista\n",
    "l=[1,-0.5]\n",
    "print(l)\n",
    "l.append(-1.e-10)\n",
    "print(l)\n",
    "\n",
    "l2=[-1.45, -99]\n",
    "l.extend(l2)  #añade los elementos de la lista l2 a la lista l\n",
    "print(l)\n",
    "\n",
    "l.remove(-1.45)      #elimina el objeto que indicamos, en esta caso, borra -1.45 de la lista\n",
    "print(l)\n",
    "\n",
    "l.pop() #elimina el último elemento de la lista\n",
    "print(l)\n",
    "l.pop(1) #elimina el elemento guardado en la posición 1\n",
    "print(l)"
   ]
  },
  {
   "cell_type": "markdown",
   "metadata": {
    "id": "Z6_CSbBsnWMf"
   },
   "source": [
    "### Diccionarios\n",
    "\n",
    "\n",
    "Tipo de datos que permite almacenar un conjunto arbitrario de datos en forma de clave y valor.\n",
    "\n",
    "Para acceder a un elemento del diccionario se usa la clave."
   ]
  },
  {
   "cell_type": "code",
   "execution_count": null,
   "metadata": {
    "colab": {
     "base_uri": "https://localhost:8080/"
    },
    "id": "hTrWGFABrqsQ",
    "outputId": "a98e3e7e-b6ed-43ee-9c78-bbb2f253e62f"
   },
   "outputs": [
    {
     "name": "stdout",
     "output_type": "stream",
     "text": [
      "{'A1': 5, 'A2': 7.25, 'A3': 9.2}\n",
      "Nota:  5\n",
      "{'A1': 5, 'A2': 7.25, 'A3': 9.5}\n",
      "claves=  dict_keys(['A1', 'A2', 'A3'])\n",
      "valores=  dict_values([5, 7.25, 9.5])\n",
      "Pares=  dict_items([('A1', 5), ('A2', 7.25), ('A3', 9.5)])\n",
      "7.25\n",
      "{'A1': 5, 'A3': 9.5}\n"
     ]
    }
   ],
   "source": [
    "alumnos={'A1':5,'A2':7.25,'A3':9.2}\n",
    "print(alumnos)\n",
    "print(\"Nota: \", alumnos['A1'])\n",
    "alumnos['A3']=9.5\n",
    "print(alumnos)\n",
    "print(\"claves= \", alumnos.keys())\n",
    "print(\"valores= \", alumnos.values())\n",
    "print(\"Pares= \", alumnos.items())\n",
    "c=alumnos.pop('A2') #elimina el dato con clave 'A2'\n",
    "print(c)\n",
    "print(alumnos)"
   ]
  },
  {
   "cell_type": "markdown",
   "metadata": {
    "id": "5ickzofQGGIU"
   },
   "source": [
    "## Estructuras de control\n"
   ]
  },
  {
   "cell_type": "markdown",
   "metadata": {
    "id": "69fC6hkcuHlo"
   },
   "source": [
    "### Condicionales **if/elif/else**\n",
    "\n",
    "$$\n",
    "\\begin{array}{l}\n",
    "{\\bf if} \\, condicion:\\\\\n",
    "\\quad < sentencia \\ indentada >\\\\\n",
    "\\quad < sentencia \\ indentada >\\\\\n",
    "{\\bf elif} \\, condicion:\\\\\n",
    "\\quad < sentencia \\ indentada >\\\\\n",
    "\\quad < sentencia \\ indentada >\\\\\n",
    "{\\bf else}:\\\\\n",
    "\\quad < sentencia \\ indentada >\\\\\n",
    "\\quad < sentencia \\ indentada >\\\\\n",
    "\\end{array}\n",
    "$$"
   ]
  },
  {
   "cell_type": "code",
   "execution_count": null,
   "metadata": {
    "colab": {
     "base_uri": "https://localhost:8080/"
    },
    "id": "Rwvv2rqv7mI3",
    "outputId": "f28e06f7-4c05-439e-b5ff-c55ae2bc2ccc"
   },
   "outputs": [
    {
     "name": "stdout",
     "output_type": "stream",
     "text": [
      "2.619047619047619\n"
     ]
    }
   ],
   "source": [
    "a=5.5; b=2.1\n",
    "if b!=0:\n",
    "  c=a/b\n",
    "  print(c)\n",
    "else:\n",
    "  print(\"no se puede dividir\")"
   ]
  },
  {
   "cell_type": "markdown",
   "metadata": {
    "id": "WxkOMOpc_aQA"
   },
   "source": [
    "Ej: Implementación de una calculadora"
   ]
  },
  {
   "cell_type": "code",
   "execution_count": null,
   "metadata": {
    "colab": {
     "base_uri": "https://localhost:8080/"
    },
    "id": "nGTxKQo-_fbc",
    "outputId": "a41f0844-45d7-4298-ec86-c26c05f567eb"
   },
   "outputs": [
    {
     "name": "stdout",
     "output_type": "stream",
     "text": [
      "Introduzca dos numeros 2 3\n",
      "<class 'str'> <class 'str'>\n",
      "2.0 3.0\n",
      "1.sumar, 2.restar, 3.multiplicar, 4.dividir4\n",
      "4\n",
      "0.6666666666666666\n"
     ]
    }
   ],
   "source": [
    "data=input(\"Introduzca dos numeros \")  #lee una cadena de texto\n",
    "a,b=data.split()\n",
    "print(type(a),type(b))\n",
    "a=float(a); b=float(b)\n",
    "print(a,b)\n",
    "op=int(input(\"1.sumar, 2.restar, 3.multiplicar, 4.dividir\"))\n",
    "print(op)\n",
    "if op==1:\n",
    "  c=a+b\n",
    "  print(c)\n",
    "elif op==2:\n",
    "  c=a-b \n",
    "  print(c)\n",
    "elif op==3:\n",
    "  c=a*b\n",
    "  print(c)\n",
    "elif op==4:\n",
    "  if b!=0: \n",
    "    c=a/b \n",
    "    print(c)\n",
    "  else:\n",
    "    print(\"no se puede dividir por 0\")\n",
    "else:\n",
    "  print(\"opcion incorrecta\")\n"
   ]
  },
  {
   "cell_type": "markdown",
   "metadata": {
    "id": "0UuKKw4aDdQZ"
   },
   "source": [
    "### Bucles vía **while**\n",
    "\n",
    "$$\n",
    "\\begin{array}{l}\n",
    "{\\bf while} \\, condicion:\\\\\n",
    "\\quad < sentencia \\ indentada >\\\\\n",
    "\\quad < sentencia \\ indentada >\\\\\n",
    "\\quad < sentencia \\ indentada >\\\\\n",
    "\\end{array}\n",
    "$$\n",
    "\n"
   ]
  },
  {
   "cell_type": "markdown",
   "metadata": {
    "id": "qSUQEsg_DH5W"
   },
   "source": [
    "1) Calcular la distancia recorrida $s$ de un objeto que se mueve en el intervalo $[0,t]$, cuya velocidad inicial es $v_0$ y su aceleración es $a$, para $t<2$\n",
    "\n",
    "$$\n",
    "s=v_0t + \\frac{1}{2}a t^2\n",
    "$$"
   ]
  },
  {
   "cell_type": "code",
   "execution_count": null,
   "metadata": {
    "colab": {
     "base_uri": "https://localhost:8080/"
    },
    "id": "QTOBOhKxkVtp",
    "outputId": "cc5557e4-a81f-4d0c-d901-ae3c982e4735"
   },
   "outputs": [
    {
     "name": "stdout",
     "output_type": "stream",
     "text": [
      "s=0 en t=0.00\n",
      "s=1.02 en t=0.50\n",
      "s=2.1 en t=1.00\n",
      "s=3.23 en t=1.50\n",
      "s=4.4 en t=2.00\n"
     ]
    }
   ],
   "source": [
    "v0=2\n",
    "a=0.2\n",
    "dt=0.5\n",
    "t=0\n",
    "while t<=2:\n",
    "  s=v0*t + 0.5 * a* t**2\n",
    "  print(\"s={:.3g} en t={:.2f}\".format(s,t))\n",
    "  t+=dt #   t=t+dt"
   ]
  },
  {
   "cell_type": "markdown",
   "metadata": {
    "id": "KED1IxX8DQjR"
   },
   "source": [
    "Repetir el cálculo de la distancia, pero ahora almacenamos el resultado en una lista"
   ]
  },
  {
   "cell_type": "code",
   "execution_count": null,
   "metadata": {
    "colab": {
     "base_uri": "https://localhost:8080/"
    },
    "id": "r-_vXNw4DXgv",
    "outputId": "226ff00f-b1e8-435c-b035-d418d078dfb8"
   },
   "outputs": [
    {
     "name": "stdout",
     "output_type": "stream",
     "text": [
      "[[0, 0.0], [0.5, 1.025], [1.0, 2.1], [1.5, 3.225], [2.0, 4.4]]\n"
     ]
    }
   ],
   "source": [
    "v0=2\n",
    "a=0.2\n",
    "dt=0.5\n",
    "t=0\n",
    "ls=[]\n",
    "while t<=2:\n",
    "  s=v0*t + 0.5 * a* t**2\n",
    "  ls.append([t,s])\n",
    "  #print(\"s={:.3g} en t={:.2f}\".format(s,t))\n",
    "  t+=dt #   t=t+dt\n",
    "print(ls)"
   ]
  },
  {
   "cell_type": "markdown",
   "metadata": {
    "id": "MAPEzaasFyb_"
   },
   "source": [
    "### Bucles vía ${\\bf for}$\n",
    "\n",
    "\n",
    "$$\n",
    "{\\bf for} \\mbox{ <variable> in <objeto iterable>:}\\\\\n",
    "\\quad \\mbox{<sentencia indentada>}\\\\\n",
    "\\quad \\mbox{<sentencia indentada>}\\\\ \n",
    "$$"
   ]
  },
  {
   "cell_type": "code",
   "execution_count": null,
   "metadata": {
    "colab": {
     "base_uri": "https://localhost:8080/"
    },
    "id": "yMNRlp5UE39E",
    "outputId": "7fee5da2-fe7b-4685-c42d-8927583755af"
   },
   "outputs": [
    {
     "name": "stdout",
     "output_type": "stream",
     "text": [
      "Iteramos sobre una lista\n",
      "2.4\n",
      "4.5\n",
      "7e-10\n",
      "iteramos sobre un diccionario\n",
      "clave a, valor [1, 2]\n",
      "clave b, valor 3.4\n",
      "clave c, valor [-3, 2, 9]\n"
     ]
    }
   ],
   "source": [
    "print(\"Iteramos sobre una lista\")\n",
    "l=[2.4, 4.5, 7.e-10]\n",
    "for x in l:\n",
    "  print(x)\n",
    "print(\"iteramos sobre un diccionario\")\n",
    "d={'a':[1,2], 'b':3.4, 'c': [-3,2,9]}\n",
    "for key in d:\n",
    "  print(\"clave {}, valor {}\".format(key, d[key]  ))\n"
   ]
  },
  {
   "cell_type": "markdown",
   "metadata": {
    "id": "gY264TrOHjGc"
   },
   "source": [
    "#### Método ${\\bf range}$\n",
    "\n",
    "El método ${\\bf range(start, stop, step)}$ devuelve una secuencia de números, empezando en el número entero $start$ (por defecto empieza en $0$), incrementándose con paso entero $step$ (su valor por defecto es $1$) y termina en el número entero $stop-step$. \n"
   ]
  },
  {
   "cell_type": "code",
   "execution_count": null,
   "metadata": {
    "colab": {
     "base_uri": "https://localhost:8080/"
    },
    "id": "CAxnMNlIFw3J",
    "outputId": "87b73556-6239-4f54-fcea-2709fc9a006b"
   },
   "outputs": [
    {
     "name": "stdout",
     "output_type": "stream",
     "text": [
      "0\n",
      "1\n",
      "2\n",
      "3\n",
      "4\n"
     ]
    }
   ],
   "source": [
    "for k in range(5): print(k)"
   ]
  },
  {
   "cell_type": "code",
   "execution_count": null,
   "metadata": {
    "colab": {
     "base_uri": "https://localhost:8080/"
    },
    "id": "ByKD09DiKPcu",
    "outputId": "436d1b2a-79e9-4251-8378-dd2dff0c53a2"
   },
   "outputs": [
    {
     "name": "stdout",
     "output_type": "stream",
     "text": [
      "1\n",
      "3\n",
      "5\n",
      "7\n",
      "9\n"
     ]
    }
   ],
   "source": [
    "for k in range(1,10,2):\n",
    "  print(k)"
   ]
  },
  {
   "cell_type": "code",
   "execution_count": null,
   "metadata": {
    "colab": {
     "base_uri": "https://localhost:8080/"
    },
    "id": "0alytOXLKV8z",
    "outputId": "5dece515-36de-4a1b-8e5f-5dcbc714b392"
   },
   "outputs": [
    {
     "name": "stdout",
     "output_type": "stream",
     "text": [
      "10\n",
      "9\n",
      "8\n",
      "7\n",
      "6\n"
     ]
    }
   ],
   "source": [
    "for k in range(10, 5, -1):\n",
    "  print(k)"
   ]
  },
  {
   "cell_type": "markdown",
   "metadata": {
    "id": "fTmBxx-C_sJh"
   },
   "source": [
    "Ej. Calcular la distancia recorrida $s$ de un objeto que se mueve en el intervalo $[0,t]$, cuya velocidad inicial es $v_0$ y su aceleración es $a$, para $t<2$\n",
    "\n",
    "$$\n",
    "s=v_0t + \\frac{1}{2}a t^2\n",
    "$$\n",
    "\n",
    "Almacenar en una lista los pares instantes de tiempo y el correspondiente espacio **recorrido**\n"
   ]
  },
  {
   "cell_type": "code",
   "execution_count": null,
   "metadata": {
    "colab": {
     "base_uri": "https://localhost:8080/"
    },
    "id": "jni_9dEzKeJj",
    "outputId": "920175af-24cd-4255-d7f0-7debea151e50"
   },
   "outputs": [
    {
     "name": "stdout",
     "output_type": "stream",
     "text": [
      "En el tiempo 0 ha recorrido 0.0\n",
      "En el tiempo 0.5 ha recorrido 1.025\n",
      "En el tiempo 1.0 ha recorrido 2.1\n",
      "En el tiempo 1.5 ha recorrido 3.225\n",
      "En el tiempo 2.0 ha recorrido 4.4\n"
     ]
    }
   ],
   "source": [
    "v0=2\n",
    "a=0.2\n",
    "dt=0.5\n",
    "t=0\n",
    "datos=[]\n",
    "while t<=2:\n",
    "  s=v0*t + 0.5 * a* t**2\n",
    "  datos.append([t,s])\n",
    "  t+=dt \n",
    "\n",
    "for k in range(0,len(datos)):\n",
    "  print(\"En el tiempo {} ha recorrido {}\".format(datos[k][0],datos[k][1] ))\n"
   ]
  },
  {
   "cell_type": "markdown",
   "metadata": {
    "id": "QJSWxubICZ-A"
   },
   "source": [
    "###  ${\\bf break}$ y ${\\bf continue}$ \n",
    "\n",
    "\n",
    "\n",
    "${\\bf break}$: permite terminar con la ejecución del bucle\n",
    "\n",
    "${\\bf continue}$: permite saltar todo el código restante a partir de la iteración actual y vuelve al principio del bucle. "
   ]
  },
  {
   "cell_type": "code",
   "execution_count": null,
   "metadata": {
    "colab": {
     "base_uri": "https://localhost:8080/"
    },
    "id": "bJwp5xHsBpsw",
    "outputId": "03e032ca-58e1-44d1-8134-18ea6062f2b9"
   },
   "outputs": [
    {
     "name": "stdout",
     "output_type": "stream",
     "text": [
      "k=  0\n",
      "k=  2\n",
      "k=  3\n",
      "k=  5\n"
     ]
    }
   ],
   "source": [
    "for k in range(0,6):\n",
    "  if k==1 or k==4:\n",
    "    continue\n",
    "  print(\"k= \", k)"
   ]
  },
  {
   "cell_type": "code",
   "execution_count": null,
   "metadata": {
    "colab": {
     "base_uri": "https://localhost:8080/"
    },
    "id": "NdUxEAfTDOvk",
    "outputId": "3615172c-a17d-4a6d-f493-bce0b1009de6"
   },
   "outputs": [
    {
     "name": "stdout",
     "output_type": "stream",
     "text": [
      "k=  0\n",
      "k=  1\n",
      "k=  2\n"
     ]
    }
   ],
   "source": [
    "for k in range(0,5):\n",
    "  if k==3:\n",
    "    break\n",
    "  print(\"k= \", k)"
   ]
  },
  {
   "cell_type": "markdown",
   "metadata": {
    "id": "KCvp7B4YEFjH"
   },
   "source": [
    "## Funciones\n",
    "\n",
    "\n",
    "$$\n",
    "{\\bf def} \\mbox{ nombre_funcion( argumentos separados por comas):}\\\\\n",
    "\\quad \\mbox{<sentencia indentada>}\\\\\n",
    "\\quad \\mbox{<sentencia indentada>}\\\\ \n",
    "{\\bf return}\\mbox{   variable                       }\n",
    "$$"
   ]
  },
  {
   "cell_type": "markdown",
   "metadata": {
    "id": "auxvYBdzHUMm"
   },
   "source": [
    " Calcular la distancia recorrida $s$ de un objeto que se mueve en el intervalo $[0,t]$, cuya velocidad inicial es $v_0$ y su aceleración es $a$, para $t<2$\n",
    "\n",
    "$$\n",
    "s(t)=v_0t + \\frac{1}{2}a t^2\n",
    "$$"
   ]
  },
  {
   "cell_type": "code",
   "execution_count": null,
   "metadata": {
    "colab": {
     "base_uri": "https://localhost:8080/"
    },
    "id": "F64KGqhQDcbo",
    "outputId": "f2c42fbd-3172-41e6-bb4e-0e4e9f367671"
   },
   "outputs": [
    {
     "name": "stdout",
     "output_type": "stream",
     "text": [
      "espacio=  1.025\n"
     ]
    }
   ],
   "source": [
    "def s(t):\n",
    "  v0=2\n",
    "  a=0.2\n",
    "  s=v0*t + 0.5 * a* t**2\n",
    "  return s \n",
    "\n",
    "print(\"espacio= \", s(0.5))"
   ]
  },
  {
   "cell_type": "markdown",
   "metadata": {
    "id": "03RTpmARgN-4"
   },
   "source": [
    "Ejr: Almacenar en una lista los tiempos y los espacios recorridos hasta $t\\le2$ con paso $dt=0.2$, usando para ello la función $s(t)$.\n"
   ]
  },
  {
   "cell_type": "code",
   "execution_count": null,
   "metadata": {
    "colab": {
     "base_uri": "https://localhost:8080/"
    },
    "id": "uR-KaWjqHRxM",
    "outputId": "41cb8919-4f47-44b9-a745-599aa317da33"
   },
   "outputs": [
    {
     "name": "stdout",
     "output_type": "stream",
     "text": [
      "Tiempo y espacio recorrido= \n",
      " [[0, 0.0], [0.5, 1.025], [1.0, 2.1], [1.5, 3.225], [2.0, 4.4]]\n"
     ]
    }
   ],
   "source": [
    "\n",
    "t=0\n",
    "l=[]\n",
    "while t<=2:\n",
    "  st=s(t)\n",
    "  l.append([t,st])\n",
    "  t+=dt\n",
    "print(\"Tiempo y espacio recorrido= \\n\", l)"
   ]
  },
  {
   "cell_type": "markdown",
   "metadata": {
    "id": "-iaMTx5hh83h"
   },
   "source": [
    "### Argumentos clave\n",
    "\n",
    "En Python podemos tener argumentos clave, con valores preficados"
   ]
  },
  {
   "cell_type": "code",
   "execution_count": null,
   "metadata": {
    "id": "ZF5fRiUgHWBD"
   },
   "outputs": [],
   "source": [
    "def s(t,v0=2, a0=0.2):\n",
    "  s=v0*t + 0.5 * a* t**2\n",
    "  return s"
   ]
  },
  {
   "cell_type": "code",
   "execution_count": null,
   "metadata": {
    "colab": {
     "base_uri": "https://localhost:8080/"
    },
    "id": "E3N5zb3zkrX0",
    "outputId": "fa5ee1bc-c35a-48ba-bda8-86b581490ec1"
   },
   "outputs": [
    {
     "name": "stdout",
     "output_type": "stream",
     "text": [
      "4.4\n",
      "6.4\n",
      "6.4\n",
      "6.4\n"
     ]
    }
   ],
   "source": [
    "print( s(2)) #usa v0=2, a0=.2\n",
    "print( s(2, v0=3)) #usa a0=0.2\n",
    "print( s(2, v0=3, a0=0.1))\n",
    "print( s(2, a0=0.1,v0=3))\n"
   ]
  },
  {
   "cell_type": "markdown",
   "metadata": {
    "id": "WCDCyBQJqAsT"
   },
   "source": [
    "En Python las variables que no sean de tipo numérico, se pasan por referencia, i.e., no se crea una copia de la variable, sino que se pasa un puntero del objeto.\n"
   ]
  },
  {
   "cell_type": "code",
   "execution_count": null,
   "metadata": {
    "colab": {
     "base_uri": "https://localhost:8080/"
    },
    "id": "H_K39v0wqOal",
    "outputId": "65929181-01a3-4bab-82f3-f40ab6018364"
   },
   "outputs": [
    {
     "name": "stdout",
     "output_type": "stream",
     "text": [
      "id(l)=  139755871072576    l =  [1, 2]\n",
      "b->  <class 'int'> 139755872538256  b=  -20\n",
      "*** dentro\n",
      "x->  <class 'list'> 139755871072576  x =  [1, 2]\n",
      "a->  <class 'int'> 11127616   a=  30\n",
      "b->  <class 'int'> 139755872538256   b=  -20\n",
      "35\n",
      "x->  <class 'list'> 139755871072576  x =  [20, -10]\n",
      "id(l)=  139755871072576    l =  [20, -10]\n",
      "b->  <class 'int'> 139755872538256  b=  -20\n"
     ]
    }
   ],
   "source": [
    "def f(x, a,b):\n",
    "  print(\"*** dentro\")\n",
    "  print(\"x-> \", type(x), id(x), \" x = \", x)\n",
    "  print(\"a-> \", type(a), id(a), \"  a= \", a)\n",
    "  print(\"b-> \", type(b), id(b), \"  b= \", b)\n",
    "  b=a+5\n",
    "  print(b)\n",
    "  x[0]=20\n",
    "  x[1]=-10\n",
    "  print(\"x-> \", type(x), id(x), \" x = \", x)\n",
    "  return b\n",
    "\n",
    "l=[1,2]\n",
    "print(\"id(l)= \", id(l), \"   l = \", l)\n",
    "a=30\n",
    "b=-20\n",
    "print(\"b-> \", type(b), id(b), \" b= \", b)\n",
    "\n",
    "c=f(l,a,b)\n",
    "print(\"id(l)= \", id(l), \"   l = \", l)\n",
    "print(\"b-> \", type(b), id(b), \" b= \", b)\n",
    "\n"
   ]
  },
  {
   "cell_type": "code",
   "execution_count": null,
   "metadata": {
    "colab": {
     "base_uri": "https://localhost:8080/"
    },
    "id": "0WXChFO_HnTv",
    "outputId": "ef6df21b-79a1-4926-98f3-cfa5b63bc2fc"
   },
   "outputs": [
    {
     "name": "stdout",
     "output_type": "stream",
     "text": [
      "id(l)=  139755871018272    l =  [1, 2]\n",
      "b->  <class 'int'> 139755872537392  b=  -20\n",
      "*** dentro\n",
      "x->  <class 'list'> 139755871018272  x =  [1, 2]\n",
      "a->  <class 'int'> 11127616   a=  30\n",
      "b->  <class 'int'> 139755872537392   b=  -20\n",
      "35\n",
      "(dp) x->  <class 'list'> 139755871335040  x =  [1, 2, 1, 2, 1, 2, 1, 2, 1, 2]\n",
      "id(l)=  139755871018272    l =  [1, 2]\n",
      "b->  <class 'int'> 139755872537392  b=  -20\n"
     ]
    }
   ],
   "source": [
    "def f(x, a,b):\n",
    "  print(\"*** dentro\")\n",
    "  print(\"x-> \", type(x), id(x), \" x = \", x)\n",
    "  print(\"a-> \", type(a), id(a), \"  a= \", a)\n",
    "  print(\"b-> \", type(b), id(b), \"  b= \", b)\n",
    "  b=a+5\n",
    "  print(b)\n",
    "  x=x*5\n",
    "  print(\"(dp) x-> \", type(x), id(x), \" x = \", x)\n",
    "  return b\n",
    "\n",
    "l=[1,2]\n",
    "print(\"id(l)= \", id(l), \"   l = \", l)\n",
    "a=30\n",
    "b=-20\n",
    "print(\"b-> \", type(b), id(b), \" b= \", b)\n",
    "\n",
    "c=f(l,a,b)\n",
    "print(\"id(l)= \", id(l), \"   l = \", l)\n",
    "print(\"b-> \", type(b), id(b), \" b= \", b)"
   ]
  },
  {
   "cell_type": "markdown",
   "metadata": {
    "id": "gH4jUm2fIbXR"
   },
   "source": [
    "Calcular la distancia recorrida $s$ de un objeto que se mueve en el intervalo $[0,t]$, cuya velocidad inicial es $v_0$ y su aceleración es $a$, para $t<2$. Construir una función que reciba como argumento una lista de tiempos y devuelva una lista con el valores del espacio recorrido.\n",
    "\n",
    "$$\n",
    "s(t)=v_0t + \\frac{1}{2}a t^2\n",
    "$$\n",
    "\n",
    "En la función hay que testear que se pasa como argumento una lista"
   ]
  },
  {
   "cell_type": "code",
   "execution_count": null,
   "metadata": {
    "colab": {
     "base_uri": "https://localhost:8080/"
    },
    "id": "juIxfLKdImH6",
    "outputId": "92f2d220-06c4-4f85-c1cc-897baa93ee44"
   },
   "outputs": [
    {
     "name": "stdout",
     "output_type": "stream",
     "text": [
      "<class 'list'>\n",
      "ls  []\n",
      "tiempo=  0.15  espacio=  0.778125\n",
      "tiempo=  0.5  espacio=  2.8125\n",
      "tiempo=  0.75  espacio=  4.453125\n",
      "tiempo=  1  espacio=  6.25\n",
      "tiempo=  1.35  espacio=  9.028125\n",
      "tiempo=  1.55  espacio=  10.753125\n"
     ]
    }
   ],
   "source": [
    "def s(lt, v0=5, a=2.5):\n",
    "  print(type(lt))\n",
    "  if (type(lt)!=list):\n",
    "    print(\"tiene que introducir una lista\")\n",
    "    return None\n",
    "  ls=[]\n",
    "  print(\"ls \", ls)\n",
    "  for tk in lt:\n",
    "    stk=v0*tk+1/2.*a*tk**2\n",
    "    ls.append(stk)\n",
    "  return ls\n",
    "    \n",
    "\n",
    "tiempos=[0.15, 0.5, 0.75, 1, 1.35, 1.55]\n",
    "ls=s(tiempos)\n",
    "for k in range(0, len(tiempos)):\n",
    "  print(\"tiempo= \", tiempos[k], \" espacio= \" ,ls[k])\n",
    "    \n",
    "  "
   ]
  },
  {
   "cell_type": "markdown",
   "metadata": {
    "id": "Z7MCzYnJhGmZ"
   },
   "source": [
    "Ejr: Ecuación que describe el movimiento cuando consideramos $a(t)=a_0$ para $t\\in [0,t_1]$ y $a(t)=0$ para $t>t_1$\n",
    "\n",
    "$$\n",
    "s(t)=\\left\\{\\begin{array}{lcl}\n",
    "s_0+v_0 t + \\frac{1}{2}a_0t^2 & si & t\\in[0,t_1]\\\\\n",
    "s_0+v_0 t + \\frac{1}{2}a_0t^2+ a_0t_1(t-t_1)& si & t>t_1\\\\\n",
    "\\end{array}\n",
    "\\right.\n",
    "$$\n",
    "\n",
    "Implementar un método que calculte $s(t)$ para un instante de tiempo $t$ cualquiera. Considerad $t_1=0.5$"
   ]
  },
  {
   "cell_type": "code",
   "execution_count": null,
   "metadata": {
    "colab": {
     "base_uri": "https://localhost:8080/"
    },
    "id": "FLGZ6F3phKUN",
    "outputId": "4845e437-c9ff-4e18-e46d-20eabda7cb71"
   },
   "outputs": [
    {
     "name": "stdout",
     "output_type": "stream",
     "text": [
      "4.765625\n",
      "1.328125\n"
     ]
    }
   ],
   "source": [
    "def s(t, v0=5, a=2.5,t1=0.5):\n",
    "    if t<=t1:\n",
    "      return v0*t+1/2.*a*t**2\n",
    "    else:\n",
    "      return v0*t+1/2.*a*t**2+a*t1*(t-t1)\n",
    " \n",
    "\n",
    "t=0.75\n",
    "print(s(t))\n",
    "t=0.25\n",
    "print(s(t))"
   ]
  },
  {
   "cell_type": "markdown",
   "metadata": {
    "id": "IBR63J0Ci42I"
   },
   "source": [
    "Ejr: Adaptar la función anterior de tal modo que en vez de recibir como argumento de entrada un dato numérico reciba una lista de tiempos, y devuelva una lista de los correspondientes espacios recorridos."
   ]
  },
  {
   "cell_type": "code",
   "execution_count": null,
   "metadata": {
    "colab": {
     "base_uri": "https://localhost:8080/"
    },
    "id": "02od4V76jMoX",
    "outputId": "ce68e125-130e-463a-c128-8ed7a5db7948"
   },
   "outputs": [
    {
     "name": "stdout",
     "output_type": "stream",
     "text": [
      "<class 'list'>\n",
      "ls  []\n",
      "espacio recorrido para cada tiempo=  [0.5125, 0.0, 905.9375, 0.0, 1705.9375, 2.815625, 4.140625]\n"
     ]
    }
   ],
   "source": [
    "def s(lt, v0=5, a=2.5,t1=0.5):\n",
    "  print(type(lt))\n",
    "  if (type(lt)!=list):\n",
    "    print(\"tiene que introducir una lista\")\n",
    "    return None\n",
    "  ls=[]\n",
    "  print(\"ls \", ls)\n",
    "  for tk in lt:\n",
    "    if tk<=t1:\n",
    "      stk=v0*tk+1/2.*a*tk**2\n",
    "    else:\n",
    "      stk=v0*tk+1/2.*a*tk**2+a*t1*(t-t1)\n",
    "    ls.append(stk)\n",
    "  return ls\n",
    "\n",
    "tiempos=[0.1, 0,25, 0,35,0.55, 0.75]\n",
    "espacio=s(tiempos)\n",
    "print(\"espacio recorrido para cada tiempo= \", espacio)"
   ]
  },
  {
   "cell_type": "markdown",
   "metadata": {
    "id": "_M7YR1TKmsZQ"
   },
   "source": [
    "A partir de Python 3.6, en un método también podemos indicar el tipo de los argumentos de entrada así como el tipo de argumento de salida, siempre y cuando no sean argumentos de tipo clave.\n",
    "\n",
    "\n",
    "$$\n",
    "{\\bf def} \\mbox{ nombre_funcion(  va1: tipo,  var2: tipo , ...)-> tipo:}\\\\\n",
    "\\quad \\mbox{<sentencia indentada>}\\\\\n",
    "\\quad \\mbox{<sentencia indentada>}\\\\ \n",
    "{\\bf return}\\mbox{   variable                       }\n",
    "$$\n",
    "\n"
   ]
  },
  {
   "cell_type": "code",
   "execution_count": null,
   "metadata": {
    "colab": {
     "base_uri": "https://localhost:8080/"
    },
    "id": "5PihbY4bkzlE",
    "outputId": "76747f99-8875-43cf-c7d3-1b14fefa1b3a"
   },
   "outputs": [
    {
     "name": "stdout",
     "output_type": "stream",
     "text": [
      "<function s at 0x7f1b730f6170>\n"
     ]
    }
   ],
   "source": [
    "def s(t:float,v0: float, a:float)-> float:\n",
    "  #s=v0*t + 0.5 * a* t**2\n",
    "  return s\n",
    "\n",
    "b=s(10,2,0.2)\n",
    "print(b)\n",
    "\n",
    "b=s([10,11],0,2) #No me da error en la llamada de la funcion. Me saca el tipico error"
   ]
  },
  {
   "cell_type": "code",
   "execution_count": null,
   "metadata": {
    "id": "CXV-TtgXn_YC"
   },
   "outputs": [],
   "source": []
  }
 ],
 "metadata": {
  "colab": {
   "collapsed_sections": [
    "AY9fGMQlKQ6J",
    "KMZ4Hv2jXLok",
    "yopTN68CYtQS",
    "gY264TrOHjGc"
   ],
   "provenance": []
  },
  "kernelspec": {
   "display_name": "Python 3 (ipykernel)",
   "language": "python",
   "name": "python3"
  },
  "language_info": {
   "codemirror_mode": {
    "name": "ipython",
    "version": 3
   },
   "file_extension": ".py",
   "mimetype": "text/x-python",
   "name": "python",
   "nbconvert_exporter": "python",
   "pygments_lexer": "ipython3",
   "version": "3.10.12"
  }
 },
 "nbformat": 4,
 "nbformat_minor": 4
}
